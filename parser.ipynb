{
 "cells": [
  {
   "cell_type": "code",
   "execution_count": 10,
   "metadata": {},
   "outputs": [],
   "source": [
    "import os\n",
    "from typing import Optional\n",
    "from sqlmodel import Field, SQLModel, create_engine, Session\n",
    "import pathlib\n",
    "from kowinski.parser.repo_parser import parse_repository \n",
    "from kowinski.parser.file_parser import analyze_python_files\n",
    "from kowinski.tools.code_analysis import repository_querier\n",
    "import pandas as pd "
   ]
  },
  {
   "cell_type": "code",
   "execution_count": 2,
   "metadata": {},
   "outputs": [],
   "source": [
    "\n",
    "issue_data = pd.read_parquet('../data/data.parquet')\n",
    "row = issue_data.iloc[0]\n",
    "repo_path = f'../data/repos/repo__{row[\"instance_id\"]}'"
   ]
  },
  {
   "cell_type": "code",
   "execution_count": 4,
   "metadata": {},
   "outputs": [
    {
     "name": "stdout",
     "output_type": "stream",
     "text": [
      "Repository parsing complete. Processed 313 files.\n"
     ]
    },
    {
     "data": {
      "text/plain": [
       "313"
      ]
     },
     "execution_count": 4,
     "metadata": {},
     "output_type": "execute_result"
    }
   ],
   "source": [
    "parse_repository(repo_path)"
   ]
  },
  {
   "cell_type": "code",
   "execution_count": 11,
   "metadata": {},
   "outputs": [],
   "source": [
    "import sqlite3\n",
    "conn = sqlite3.connect('repository.db')\n",
    "df = pd.read_sql(\"SELECT * FROM repofile\", conn)"
   ]
  },
  {
   "cell_type": "code",
   "execution_count": 13,
   "metadata": {},
   "outputs": [
    {
     "ename": "TypeHintParsingException",
     "evalue": "Argument self is missing a type hint in function get_folders",
     "output_type": "error",
     "traceback": [
      "\u001b[31m---------------------------------------------------------------------------\u001b[39m",
      "\u001b[31mTypeHintParsingException\u001b[39m                  Traceback (most recent call last)",
      "\u001b[36mCell\u001b[39m\u001b[36m \u001b[39m\u001b[32mIn[13]\u001b[39m\u001b[32m, line 1\u001b[39m\n\u001b[32m----> \u001b[39m\u001b[32m1\u001b[39m responses = \u001b[43mrepository_querier\u001b[49m\u001b[43m(\u001b[49m\u001b[43m)\u001b[49m\n",
      "\u001b[36mFile \u001b[39m\u001b[32m~/coding/kaggle/kaggle-kowinski-prize/code-kowinski-prize/src/kowinski/tools/code_analysis.py:90\u001b[39m, in \u001b[36mrepository_querier\u001b[39m\u001b[34m(db_path)\u001b[39m\n\u001b[32m     79\u001b[39m \u001b[38;5;250m\u001b[39m\u001b[33;03m\"\"\"\u001b[39;00m\n\u001b[32m     80\u001b[39m \u001b[33;03mA class to query the repository database and retrieve information for an AI agent.\u001b[39;00m\n\u001b[32m     81\u001b[39m \u001b[33;03m\u001b[39;00m\n\u001b[32m     82\u001b[39m \u001b[33;03mThis class provides methods to explore and understand a code repository's structure,\u001b[39;00m\n\u001b[32m     83\u001b[39m \u001b[33;03mhelping an AI agent to navigate, analyze, and reason about the codebase.\u001b[39;00m\n\u001b[32m     84\u001b[39m \u001b[33;03m\"\"\"\u001b[39;00m\n\u001b[32m     87\u001b[39m engine = create_engine(\u001b[33mf\u001b[39m\u001b[33m\"\u001b[39m\u001b[33msqlite:///\u001b[39m\u001b[38;5;132;01m{\u001b[39;00mdb_path\u001b[38;5;132;01m}\u001b[39;00m\u001b[33m\"\u001b[39m)\n\u001b[32m---> \u001b[39m\u001b[32m90\u001b[39m \u001b[43m\u001b[49m\u001b[38;5;129;43m@tool\u001b[39;49m\n\u001b[32m     91\u001b[39m \u001b[43m\u001b[49m\u001b[38;5;28;43;01mdef\u001b[39;49;00m\u001b[38;5;250;43m \u001b[39;49m\u001b[34;43mget_folders\u001b[39;49m\u001b[43m(\u001b[49m\u001b[38;5;28;43mself\u001b[39;49m\u001b[43m)\u001b[49m\u001b[43m \u001b[49m\u001b[43m-\u001b[49m\u001b[43m>\u001b[49m\u001b[43m \u001b[49m\u001b[43mList\u001b[49m\u001b[43m[\u001b[49m\u001b[38;5;28;43mstr\u001b[39;49m\u001b[43m]\u001b[49m\u001b[43m:\u001b[49m\n\u001b[32m     92\u001b[39m \u001b[38;5;250;43m    \u001b[39;49m\u001b[33;43;03m\"\"\"\u001b[39;49;00m\n\u001b[32m     93\u001b[39m \u001b[33;43;03m    Get all unique folder paths in the repository.\u001b[39;49;00m\n\u001b[32m     94\u001b[39m \u001b[33;43;03m    \u001b[39;49;00m\n\u001b[32m     95\u001b[39m \u001b[33;43;03m    Returns:\u001b[39;49;00m\n\u001b[32m     96\u001b[39m \u001b[33;43;03m        A list of all relative folder paths in the repository, sorted alphabetically.\u001b[39;49;00m\n\u001b[32m     97\u001b[39m \u001b[33;43;03m    \"\"\"\u001b[39;49;00m\n\u001b[32m     98\u001b[39m \u001b[43m    \u001b[49m\u001b[43mquery\u001b[49m\u001b[43m \u001b[49m\u001b[43m=\u001b[49m\u001b[43m \u001b[49m\u001b[33;43m\"\u001b[39;49m\u001b[33;43mSELECT DISTINCT relative_folder FROM repofile ORDER BY relative_folder\u001b[39;49m\u001b[33;43m\"\u001b[39;49m\n",
      "\u001b[36mFile \u001b[39m\u001b[32m~/coding/kaggle/kaggle-kowinski-prize/code-kowinski-prize/.venv/lib/python3.12/site-packages/smolagents/tools.py:845\u001b[39m, in \u001b[36mtool\u001b[39m\u001b[34m(tool_function)\u001b[39m\n\u001b[32m    837\u001b[39m \u001b[38;5;28;01mdef\u001b[39;00m\u001b[38;5;250m \u001b[39m\u001b[34mtool\u001b[39m(tool_function: Callable) -> Tool:\n\u001b[32m    838\u001b[39m \u001b[38;5;250m    \u001b[39m\u001b[33;03m\"\"\"\u001b[39;00m\n\u001b[32m    839\u001b[39m \u001b[33;03m    Converts a function into an instance of a Tool subclass.\u001b[39;00m\n\u001b[32m    840\u001b[39m \n\u001b[32m   (...)\u001b[39m\u001b[32m    843\u001b[39m \u001b[33;03m        Should also have a docstring description including an 'Args:' part where each argument is described.\u001b[39;00m\n\u001b[32m    844\u001b[39m \u001b[33;03m    \"\"\"\u001b[39;00m\n\u001b[32m--> \u001b[39m\u001b[32m845\u001b[39m     tool_json_schema = \u001b[43mget_json_schema\u001b[49m\u001b[43m(\u001b[49m\u001b[43mtool_function\u001b[49m\u001b[43m)\u001b[49m[\u001b[33m\"\u001b[39m\u001b[33mfunction\u001b[39m\u001b[33m\"\u001b[39m]\n\u001b[32m    846\u001b[39m     \u001b[38;5;28;01mif\u001b[39;00m \u001b[33m\"\u001b[39m\u001b[33mreturn\u001b[39m\u001b[33m\"\u001b[39m \u001b[38;5;129;01mnot\u001b[39;00m \u001b[38;5;129;01min\u001b[39;00m tool_json_schema:\n\u001b[32m    847\u001b[39m         \u001b[38;5;28;01mraise\u001b[39;00m TypeHintParsingException(\u001b[33m\"\u001b[39m\u001b[33mTool return type not found: make sure your function has a return type hint!\u001b[39m\u001b[33m\"\u001b[39m)\n",
      "\u001b[36mFile \u001b[39m\u001b[32m~/coding/kaggle/kaggle-kowinski-prize/code-kowinski-prize/.venv/lib/python3.12/site-packages/smolagents/_function_type_hints_utils.py:201\u001b[39m, in \u001b[36mget_json_schema\u001b[39m\u001b[34m(func)\u001b[39m\n\u001b[32m    198\u001b[39m doc = doc.strip()\n\u001b[32m    199\u001b[39m main_doc, param_descriptions, return_doc = _parse_google_format_docstring(doc)\n\u001b[32m--> \u001b[39m\u001b[32m201\u001b[39m json_schema = \u001b[43m_convert_type_hints_to_json_schema\u001b[49m\u001b[43m(\u001b[49m\u001b[43mfunc\u001b[49m\u001b[43m)\u001b[49m\n\u001b[32m    202\u001b[39m \u001b[38;5;28;01mif\u001b[39;00m (return_dict := json_schema[\u001b[33m\"\u001b[39m\u001b[33mproperties\u001b[39m\u001b[33m\"\u001b[39m].pop(\u001b[33m\"\u001b[39m\u001b[33mreturn\u001b[39m\u001b[33m\"\u001b[39m, \u001b[38;5;28;01mNone\u001b[39;00m)) \u001b[38;5;129;01mis\u001b[39;00m \u001b[38;5;129;01mnot\u001b[39;00m \u001b[38;5;28;01mNone\u001b[39;00m:\n\u001b[32m    203\u001b[39m     \u001b[38;5;28;01mif\u001b[39;00m return_doc \u001b[38;5;129;01mis\u001b[39;00m \u001b[38;5;129;01mnot\u001b[39;00m \u001b[38;5;28;01mNone\u001b[39;00m:  \u001b[38;5;66;03m# We allow a missing return docstring since most templates ignore it\u001b[39;00m\n",
      "\u001b[36mFile \u001b[39m\u001b[32m~/coding/kaggle/kaggle-kowinski-prize/code-kowinski-prize/.venv/lib/python3.12/site-packages/smolagents/_function_type_hints_utils.py:287\u001b[39m, in \u001b[36m_convert_type_hints_to_json_schema\u001b[39m\u001b[34m(func, error_on_missing_type_hints)\u001b[39m\n\u001b[32m    285\u001b[39m \u001b[38;5;28;01mfor\u001b[39;00m param_name, param \u001b[38;5;129;01min\u001b[39;00m signature.parameters.items():\n\u001b[32m    286\u001b[39m     \u001b[38;5;28;01mif\u001b[39;00m param.annotation == inspect.Parameter.empty \u001b[38;5;129;01mand\u001b[39;00m error_on_missing_type_hints:\n\u001b[32m--> \u001b[39m\u001b[32m287\u001b[39m         \u001b[38;5;28;01mraise\u001b[39;00m TypeHintParsingException(\u001b[33mf\u001b[39m\u001b[33m\"\u001b[39m\u001b[33mArgument \u001b[39m\u001b[38;5;132;01m{\u001b[39;00mparam.name\u001b[38;5;132;01m}\u001b[39;00m\u001b[33m is missing a type hint in function \u001b[39m\u001b[38;5;132;01m{\u001b[39;00mfunc.\u001b[34m__name__\u001b[39m\u001b[38;5;132;01m}\u001b[39;00m\u001b[33m\"\u001b[39m)\n\u001b[32m    288\u001b[39m     \u001b[38;5;28;01mif\u001b[39;00m param_name \u001b[38;5;129;01mnot\u001b[39;00m \u001b[38;5;129;01min\u001b[39;00m properties:\n\u001b[32m    289\u001b[39m         properties[param_name] = {}\n",
      "\u001b[31mTypeHintParsingException\u001b[39m: Argument self is missing a type hint in function get_folders"
     ]
    }
   ],
   "source": [
    "responses = repository_querier()"
   ]
  },
  {
   "cell_type": "code",
   "execution_count": 12,
   "metadata": {},
   "outputs": [
    {
     "ename": "NameError",
     "evalue": "name 'responses' is not defined",
     "output_type": "error",
     "traceback": [
      "\u001b[31m---------------------------------------------------------------------------\u001b[39m",
      "\u001b[31mNameError\u001b[39m                                 Traceback (most recent call last)",
      "\u001b[36mCell\u001b[39m\u001b[36m \u001b[39m\u001b[32mIn[12]\u001b[39m\u001b[32m, line 1\u001b[39m\n\u001b[32m----> \u001b[39m\u001b[32m1\u001b[39m \u001b[43mresponses\u001b[49m\n",
      "\u001b[31mNameError\u001b[39m: name 'responses' is not defined"
     ]
    }
   ],
   "source": [
    "responses"
   ]
  },
  {
   "cell_type": "code",
   "execution_count": null,
   "metadata": {},
   "outputs": [
    {
     "name": "stdout",
     "output_type": "stream",
     "text": [
      "Syntax error in file tests/testdata/python3/data/unicode_package/__init__.py: invalid non-printable character U+FEFF (<unknown>, line 1)\n",
      "Python file analysis complete. Results:\n",
      "  total_python_files: 258\n",
      "  total_functions: 3104\n",
      "  total_classes: 403\n",
      "  total_variables: 6012\n",
      "  files_with_parse_errors: 1\n",
      "\n",
      "Top 10 largest functions:\n",
      "                                name  start_line  end_line  line_count  \\\n",
      "0  numpy_core_numerictypes_transform          14       258         245   \n",
      "1             starred_assigned_stmts         678       871         194   \n",
      "2                      _filter_stmts          50       238         189   \n",
      "3                  _curses_transform          10       180         171   \n",
      "4                     infer_argument         141       307         167   \n",
      "5           _generate_dataclass_init         241       385         145   \n",
      "6                   infer_enum_class         388       529         142   \n",
      "7             _astroid_bootstrapping         599       737         139   \n",
      "8                          repr_tree         621       757         137   \n",
      "9                infer_numpy_ndarray          16       151         136   \n",
      "\n",
      "  relative_folder                         file_name  \n",
      "0   astroid/brain  brain_numpy_core_numerictypes.py  \n",
      "1         astroid                      protocols.py  \n",
      "2         astroid              filter_statements.py  \n",
      "3   astroid/brain                   brain_curses.py  \n",
      "4         astroid                      arguments.py  \n",
      "5   astroid/brain              brain_dataclasses.py  \n",
      "6   astroid/brain          brain_namedtuple_enum.py  \n",
      "7         astroid                   raw_building.py  \n",
      "8   astroid/nodes                        node_ng.py  \n",
      "9   astroid/brain            brain_numpy_ndarray.py  \n",
      "\n",
      "Classes with the most methods:\n",
      "           class_name  method_count             relative_folder  \\\n",
      "0       InferenceTest           258                       tests   \n",
      "1       TreeRebuilder           171                     astroid   \n",
      "2     AsStringVisitor            95               astroid/nodes   \n",
      "3       ClassNodeTest            78                       tests   \n",
      "4            ClassDef            49  astroid/nodes/scoped_nodes   \n",
      "5              NodeNG            48               astroid/nodes   \n",
      "6  AstroidManagerTest            42                       tests   \n",
      "7         TypingBrain            39                 tests/brain   \n",
      "8    FunctionNodeTest            38                       tests   \n",
      "9         BuilderTest            32                       tests   \n",
      "\n",
      "              file_name  \n",
      "0     test_inference.py  \n",
      "1          rebuilder.py  \n",
      "2          as_string.py  \n",
      "3  test_scoped_nodes.py  \n",
      "4       scoped_nodes.py  \n",
      "5            node_ng.py  \n",
      "6       test_manager.py  \n",
      "7         test_brain.py  \n",
      "8  test_scoped_nodes.py  \n",
      "9       test_builder.py  \n",
      "\n",
      "Module-level variables by file:\n",
      "  relative_folder                   file_name  var_count\n",
      "0           tests           test_inference.py        247\n",
      "1   astroid/brain  brain_builtin_inference.py        103\n",
      "2     tests/brain         test_dataclasses.py         91\n",
      "3         astroid                protocols.py         77\n",
      "4   astroid/brain    brain_namedtuple_enum.py         75\n",
      "5   astroid/brain        brain_dataclasses.py         67\n",
      "6         astroid                 modutils.py         61\n",
      "7           tests               test_nodes.py         60\n",
      "8         astroid             raw_building.py         58\n",
      "9   astroid/nodes             node_classes.py         53\n"
     ]
    }
   ],
   "source": [
    "analyze_python_files()"
   ]
  },
  {
   "cell_type": "code",
   "execution_count": 8,
   "metadata": {},
   "outputs": [
    {
     "ename": "NameError",
     "evalue": "name 'RepositoryQuerier' is not defined",
     "output_type": "error",
     "traceback": [
      "\u001b[31m---------------------------------------------------------------------------\u001b[39m",
      "\u001b[31mNameError\u001b[39m                                 Traceback (most recent call last)",
      "\u001b[36mCell\u001b[39m\u001b[36m \u001b[39m\u001b[32mIn[8]\u001b[39m\u001b[32m, line 1\u001b[39m\n\u001b[32m----> \u001b[39m\u001b[32m1\u001b[39m querier = \u001b[43mRepositoryQuerier\u001b[49m()\n",
      "\u001b[31mNameError\u001b[39m: name 'RepositoryQuerier' is not defined"
     ]
    }
   ],
   "source": [
    "querier = RepositoryQuerier()"
   ]
  },
  {
   "cell_type": "code",
   "execution_count": null,
   "metadata": {},
   "outputs": [],
   "source": []
  }
 ],
 "metadata": {
  "kernelspec": {
   "display_name": ".venv",
   "language": "python",
   "name": "python3"
  },
  "language_info": {
   "codemirror_mode": {
    "name": "ipython",
    "version": 3
   },
   "file_extension": ".py",
   "mimetype": "text/x-python",
   "name": "python",
   "nbconvert_exporter": "python",
   "pygments_lexer": "ipython3",
   "version": "3.12.2"
  }
 },
 "nbformat": 4,
 "nbformat_minor": 2
}
